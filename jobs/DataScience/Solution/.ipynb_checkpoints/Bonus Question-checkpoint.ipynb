{
 "cells": [
  {
   "cell_type": "markdown",
   "metadata": {},
   "source": [
    "# Bonus Question\n",
    "Question: We want to motivate our hotels to promote online checkin and we want to give them some hard data. Look at the data and your analysis again and estimate what would be the impact on total room revenue if the overall usage of online checkin doubled. "
   ]
  },
  {
   "cell_type": "code",
   "execution_count": 148,
   "metadata": {
    "scrolled": false
   },
   "outputs": [
    {
     "data": {
      "text/html": [
       "<div>\n",
       "<style scoped>\n",
       "    .dataframe tbody tr th:only-of-type {\n",
       "        vertical-align: middle;\n",
       "    }\n",
       "\n",
       "    .dataframe tbody tr th {\n",
       "        vertical-align: top;\n",
       "    }\n",
       "\n",
       "    .dataframe thead th {\n",
       "        text-align: right;\n",
       "    }\n",
       "</style>\n",
       "<table border=\"1\" class=\"dataframe\">\n",
       "  <thead>\n",
       "    <tr style=\"text-align: right;\">\n",
       "      <th></th>\n",
       "      <th>StartUtc</th>\n",
       "      <th>EndUtc</th>\n",
       "      <th>CreatedUtc</th>\n",
       "      <th>NightCount</th>\n",
       "      <th>NightCost_Sum</th>\n",
       "      <th>OccupiedSpace_Sum</th>\n",
       "      <th>GuestCount_Sum</th>\n",
       "      <th>LeadTime</th>\n",
       "      <th>StayLength</th>\n",
       "      <th>CancellationReason</th>\n",
       "      <th>...</th>\n",
       "      <th>IsOnlineCheckin</th>\n",
       "      <th>NationalityCode</th>\n",
       "      <th>Gender</th>\n",
       "      <th>Classification</th>\n",
       "      <th>AgeGroup</th>\n",
       "      <th>HasEmail</th>\n",
       "      <th>EnterpriseTimeZone</th>\n",
       "      <th>BusinessSegment</th>\n",
       "      <th>Tier</th>\n",
       "      <th>RateId</th>\n",
       "    </tr>\n",
       "  </thead>\n",
       "  <tbody>\n",
       "    <tr>\n",
       "      <th>0</th>\n",
       "      <td>2019-08-21 13:00:00.0000000</td>\n",
       "      <td>2019-08-22 10:00:00.0000000</td>\n",
       "      <td>2019-08-19 17:57:51.7534631</td>\n",
       "      <td>2</td>\n",
       "      <td>363.102983</td>\n",
       "      <td>4</td>\n",
       "      <td>4</td>\n",
       "      <td>2</td>\n",
       "      <td>1</td>\n",
       "      <td>NaN</td>\n",
       "      <td>...</td>\n",
       "      <td>0</td>\n",
       "      <td>SK</td>\n",
       "      <td>1</td>\n",
       "      <td>0</td>\n",
       "      <td>45</td>\n",
       "      <td>1</td>\n",
       "      <td>2</td>\n",
       "      <td>OTAs</td>\n",
       "      <td>1</td>\n",
       "      <td>C0595866-7641-424E-9C53-B2FF82C366F9</td>\n",
       "    </tr>\n",
       "    <tr>\n",
       "      <th>1</th>\n",
       "      <td>2019-08-30 13:00:00.0000000</td>\n",
       "      <td>2019-08-31 10:00:00.0000000</td>\n",
       "      <td>2019-08-25 11:35:21.7021750</td>\n",
       "      <td>1</td>\n",
       "      <td>313.932787</td>\n",
       "      <td>0</td>\n",
       "      <td>1</td>\n",
       "      <td>5</td>\n",
       "      <td>1</td>\n",
       "      <td>10.0</td>\n",
       "      <td>...</td>\n",
       "      <td>0</td>\n",
       "      <td>AS</td>\n",
       "      <td>1</td>\n",
       "      <td>0</td>\n",
       "      <td>0</td>\n",
       "      <td>1</td>\n",
       "      <td>2</td>\n",
       "      <td>OTA Netto</td>\n",
       "      <td>1</td>\n",
       "      <td>C0595866-7641-424E-9C53-B2FF82C366F9</td>\n",
       "    </tr>\n",
       "    <tr>\n",
       "      <th>2</th>\n",
       "      <td>2019-08-14 10:13:59.0881903</td>\n",
       "      <td>2019-08-16 10:00:00.0000000</td>\n",
       "      <td>2019-08-02 17:51:21.7278179</td>\n",
       "      <td>2</td>\n",
       "      <td>540.910747</td>\n",
       "      <td>4</td>\n",
       "      <td>4</td>\n",
       "      <td>12</td>\n",
       "      <td>2</td>\n",
       "      <td>NaN</td>\n",
       "      <td>...</td>\n",
       "      <td>1</td>\n",
       "      <td>SA</td>\n",
       "      <td>1</td>\n",
       "      <td>0</td>\n",
       "      <td>25</td>\n",
       "      <td>1</td>\n",
       "      <td>2</td>\n",
       "      <td>OTAs</td>\n",
       "      <td>1</td>\n",
       "      <td>C0595866-7641-424E-9C53-B2FF82C366F9</td>\n",
       "    </tr>\n",
       "    <tr>\n",
       "      <th>3</th>\n",
       "      <td>2019-08-26 13:00:00.0000000</td>\n",
       "      <td>2019-08-28 10:00:00.0000000</td>\n",
       "      <td>2019-08-21 11:29:11.8259749</td>\n",
       "      <td>2</td>\n",
       "      <td>504.129588</td>\n",
       "      <td>0</td>\n",
       "      <td>4</td>\n",
       "      <td>5</td>\n",
       "      <td>2</td>\n",
       "      <td>10.0</td>\n",
       "      <td>...</td>\n",
       "      <td>0</td>\n",
       "      <td>ES</td>\n",
       "      <td>1</td>\n",
       "      <td>0</td>\n",
       "      <td>0</td>\n",
       "      <td>1</td>\n",
       "      <td>2</td>\n",
       "      <td>OTAs</td>\n",
       "      <td>1</td>\n",
       "      <td>C0595866-7641-424E-9C53-B2FF82C366F9</td>\n",
       "    </tr>\n",
       "    <tr>\n",
       "      <th>4</th>\n",
       "      <td>2019-08-22 13:00:00.0000000</td>\n",
       "      <td>2019-08-25 08:30:48.2207108</td>\n",
       "      <td>2019-08-20 15:31:25.4827323</td>\n",
       "      <td>3</td>\n",
       "      <td>533.191721</td>\n",
       "      <td>9</td>\n",
       "      <td>9</td>\n",
       "      <td>2</td>\n",
       "      <td>3</td>\n",
       "      <td>NaN</td>\n",
       "      <td>...</td>\n",
       "      <td>0</td>\n",
       "      <td>IT</td>\n",
       "      <td>1</td>\n",
       "      <td>0</td>\n",
       "      <td>45</td>\n",
       "      <td>1</td>\n",
       "      <td>2</td>\n",
       "      <td>OTAs</td>\n",
       "      <td>1</td>\n",
       "      <td>7D843D4A-C386-4293-A80A-9A56504EF4C3</td>\n",
       "    </tr>\n",
       "  </tbody>\n",
       "</table>\n",
       "<p>5 rows × 25 columns</p>\n",
       "</div>"
      ],
      "text/plain": [
       "                      StartUtc                       EndUtc  \\\n",
       "0  2019-08-21 13:00:00.0000000  2019-08-22 10:00:00.0000000   \n",
       "1  2019-08-30 13:00:00.0000000  2019-08-31 10:00:00.0000000   \n",
       "2  2019-08-14 10:13:59.0881903  2019-08-16 10:00:00.0000000   \n",
       "3  2019-08-26 13:00:00.0000000  2019-08-28 10:00:00.0000000   \n",
       "4  2019-08-22 13:00:00.0000000  2019-08-25 08:30:48.2207108   \n",
       "\n",
       "                    CreatedUtc  NightCount  NightCost_Sum  OccupiedSpace_Sum  \\\n",
       "0  2019-08-19 17:57:51.7534631           2     363.102983                  4   \n",
       "1  2019-08-25 11:35:21.7021750           1     313.932787                  0   \n",
       "2  2019-08-02 17:51:21.7278179           2     540.910747                  4   \n",
       "3  2019-08-21 11:29:11.8259749           2     504.129588                  0   \n",
       "4  2019-08-20 15:31:25.4827323           3     533.191721                  9   \n",
       "\n",
       "   GuestCount_Sum  LeadTime  StayLength  CancellationReason  ...  \\\n",
       "0               4         2           1                 NaN  ...   \n",
       "1               1         5           1                10.0  ...   \n",
       "2               4        12           2                 NaN  ...   \n",
       "3               4         5           2                10.0  ...   \n",
       "4               9         2           3                 NaN  ...   \n",
       "\n",
       "   IsOnlineCheckin  NationalityCode  Gender  Classification AgeGroup  \\\n",
       "0                0               SK       1               0       45   \n",
       "1                0               AS       1               0        0   \n",
       "2                1               SA       1               0       25   \n",
       "3                0               ES       1               0        0   \n",
       "4                0               IT       1               0       45   \n",
       "\n",
       "   HasEmail EnterpriseTimeZone  BusinessSegment  Tier  \\\n",
       "0         1                  2             OTAs     1   \n",
       "1         1                  2        OTA Netto     1   \n",
       "2         1                  2             OTAs     1   \n",
       "3         1                  2             OTAs     1   \n",
       "4         1                  2             OTAs     1   \n",
       "\n",
       "                                 RateId  \n",
       "0  C0595866-7641-424E-9C53-B2FF82C366F9  \n",
       "1  C0595866-7641-424E-9C53-B2FF82C366F9  \n",
       "2  C0595866-7641-424E-9C53-B2FF82C366F9  \n",
       "3  C0595866-7641-424E-9C53-B2FF82C366F9  \n",
       "4  7D843D4A-C386-4293-A80A-9A56504EF4C3  \n",
       "\n",
       "[5 rows x 25 columns]"
      ]
     },
     "execution_count": 148,
     "metadata": {},
     "output_type": "execute_result"
    }
   ],
   "source": [
    "#Loading the dataset\n",
    "import pandas as pd\n",
    "df_res = pd.read_csv('D:/developers/jobs/DataScience/Task/reservations.csv')\n",
    "df_rate = pd.read_csv('D:/developers/jobs/DataScience/Task/rates.csv')\n",
    "df_res.head()"
   ]
  },
  {
   "cell_type": "markdown",
   "metadata": {},
   "source": [
    "## Data Preparation"
   ]
  },
  {
   "cell_type": "code",
   "execution_count": 149,
   "metadata": {},
   "outputs": [],
   "source": [
    "#Merge\n",
    "df = df_res.merge(df_rate,how='left', on='RateId')"
   ]
  },
  {
   "cell_type": "code",
   "execution_count": 150,
   "metadata": {},
   "outputs": [],
   "source": [
    "# Dropping non revenue generating reservations\n",
    "df.loc[(df['ShortRateName']!=\"NonRefBARBB\") & (df['CancellationReason'].isna()==False), 'NightCost_Sum'] = 0"
   ]
  },
  {
   "cell_type": "code",
   "execution_count": 151,
   "metadata": {},
   "outputs": [
    {
     "data": {
      "text/plain": [
       "0    2353\n",
       "1     148\n",
       "Name: IsOnlineCheckin, dtype: int64"
      ]
     },
     "execution_count": 151,
     "metadata": {},
     "output_type": "execute_result"
    }
   ],
   "source": [
    "#Online check-in numbers\n",
    "df['IsOnlineCheckin'].value_counts()"
   ]
  },
  {
   "cell_type": "code",
   "execution_count": 152,
   "metadata": {},
   "outputs": [
    {
     "data": {
      "text/plain": [
       "0    0.940824\n",
       "1    0.059176\n",
       "Name: IsOnlineCheckin, dtype: float64"
      ]
     },
     "execution_count": 152,
     "metadata": {},
     "output_type": "execute_result"
    }
   ],
   "source": [
    "#Online check-in adoptation\n",
    "df['IsOnlineCheckin'].value_counts(normalize=True)"
   ]
  },
  {
   "cell_type": "markdown",
   "metadata": {},
   "source": [
    "- There are **148** reservations with online check-in out of 2501 reservations bringing revenue.\n",
    "- Reservations with online check-in stands for 5.91% of all reservations."
   ]
  },
  {
   "cell_type": "code",
   "execution_count": 153,
   "metadata": {
    "scrolled": true
   },
   "outputs": [
    {
     "data": {
      "text/plain": [
       "IsOnlineCheckin\n",
       "0    324.567591\n",
       "1    587.312787\n",
       "Name: NightCost_Sum, dtype: float64"
      ]
     },
     "execution_count": 153,
     "metadata": {},
     "output_type": "execute_result"
    }
   ],
   "source": [
    "#Revenue for a single reseration & check-in type\n",
    "df.groupby('IsOnlineCheckin')['NightCost_Sum'].mean()"
   ]
  },
  {
   "cell_type": "markdown",
   "metadata": {},
   "source": [
    "- Averagely, a single reservation with online check-in brings more revenue than offline reservation, around 262.75 dollars. If online reservations doubled, this would bring  averagely 262.75 * 148 = **38.8K** dollars for the same period."
   ]
  },
  {
   "cell_type": "markdown",
   "metadata": {},
   "source": [
    "## Statistical Approach"
   ]
  },
  {
   "cell_type": "code",
   "execution_count": 154,
   "metadata": {},
   "outputs": [],
   "source": [
    "#Splitting the dataset\n",
    "df_offline = df[df['IsOnlineCheckin']==0]\n",
    "df_online = df[df['IsOnlineCheckin']==1]"
   ]
  },
  {
   "cell_type": "code",
   "execution_count": 155,
   "metadata": {},
   "outputs": [
    {
     "data": {
      "text/plain": [
       "count    2353.000000\n",
       "mean      324.567591\n",
       "std       356.984555\n",
       "min         0.000000\n",
       "25%         0.000000\n",
       "50%       240.763826\n",
       "75%       472.681200\n",
       "max      2858.339731\n",
       "Name: NightCost_Sum, dtype: float64"
      ]
     },
     "execution_count": 155,
     "metadata": {},
     "output_type": "execute_result"
    }
   ],
   "source": [
    "#Statistics for offline reservations\n",
    "df_offline['NightCost_Sum'].describe()"
   ]
  },
  {
   "cell_type": "code",
   "execution_count": 157,
   "metadata": {},
   "outputs": [
    {
     "data": {
      "text/plain": [
       "count     148.000000\n",
       "mean      587.312787\n",
       "std       360.532249\n",
       "min         0.000000\n",
       "25%       347.583777\n",
       "50%       521.823832\n",
       "75%       728.107925\n",
       "max      2174.824556\n",
       "Name: NightCost_Sum, dtype: float64"
      ]
     },
     "execution_count": 157,
     "metadata": {},
     "output_type": "execute_result"
    }
   ],
   "source": [
    "#Statistics for online reservations\n",
    "df_online['NightCost_Sum'].describe()"
   ]
  },
  {
   "cell_type": "code",
   "execution_count": 159,
   "metadata": {},
   "outputs": [
    {
     "data": {
      "text/plain": [
       "<AxesSubplot:title={'center':'NightCost_Sum'}, xlabel='IsOnlineCheckin'>"
      ]
     },
     "execution_count": 159,
     "metadata": {},
     "output_type": "execute_result"
    },
    {
     "data": {
      "image/png": "[encoded data removed]",
      "text/plain": [
       "<Figure size 432x288 with 1 Axes>"
      ]
     },
     "metadata": {
      "needs_background": "light"
     },
     "output_type": "display_data"
    }
   ],
   "source": [
    "#Compare distribution visually\n",
    "df.boxplot(column='NightCost_Sum', by='IsOnlineCheckin')"
   ]
  },
  {
   "cell_type": "code",
   "execution_count": 160,
   "metadata": {},
   "outputs": [
    {
     "name": "stdout",
     "output_type": "stream",
     "text": [
      "(203.38737750186414, 322.1030145069656)\n"
     ]
    }
   ],
   "source": [
    "#t-test & confidence interval 95%\n",
    "import numpy as np\n",
    "import statsmodels.stats.api as sms\n",
    "cm = sms.CompareMeans(sms.DescrStatsW(df_online['NightCost_Sum']), sms.DescrStatsW(df_offline['NightCost_Sum']))\n",
    "print (cm.tconfint_diff(usevar='pooled'))"
   ]
  },
  {
   "cell_type": "code",
   "execution_count": 161,
   "metadata": {},
   "outputs": [
    {
     "name": "stdout",
     "output_type": "stream",
     "text": [
      "30101.33187027589 47671.24614703091\n"
     ]
    }
   ],
   "source": [
    "#Range for possible revenue diff\n",
    "n=148\n",
    "min = cm.tconfint_diff(usevar='pooled')[0]*n\n",
    "max =cm.tconfint_diff(usevar='pooled')[1]*n\n",
    "print(min,max)"
   ]
  },
  {
   "cell_type": "markdown",
   "metadata": {},
   "source": [
    "## Conclusion"
   ]
  },
  {
   "cell_type": "markdown",
   "metadata": {},
   "source": [
    "If the number of reservations with online check-in doubled, the total revenue would be **30,1K dollars minimum** and **47.6K dollars maximum** higher than the current revenue for the same duration/same number of total reservations. This can be told to the customers confidently according to available data set."
   ]
  }
 ],
 "metadata": {
  "kernelspec": {
   "display_name": "Python 3",
   "language": "python",
   "name": "python3"
  },
  "language_info": {
   "codemirror_mode": {
    "name": "ipython",
    "version": 3
   },
   "file_extension": ".py",
   "mimetype": "text/x-python",
   "name": "python",
   "nbconvert_exporter": "python",
   "pygments_lexer": "ipython3",
   "version": "3.9.1"
  }
 },
 "nbformat": 4,
 "nbformat_minor": 4
}
